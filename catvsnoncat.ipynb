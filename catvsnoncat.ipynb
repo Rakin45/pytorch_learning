{
 "cells": [
  {
   "cell_type": "code",
   "execution_count": 1,
   "metadata": {},
   "outputs": [],
   "source": [
    "import h5py\n",
    "import numpy as np\n",
    "import torch\n",
    "from torch.utils.data import TensorDataset, DataLoader"
   ]
  },
  {
   "cell_type": "code",
   "execution_count": 2,
   "metadata": {},
   "outputs": [],
   "source": [
    "def load_dataset():\n",
    "    train_dataset = h5py.File('./data/train_catvnoncat.h5', 'r')\n",
    "    train_images = np.array(train_dataset[\"train_set_x\"][:]) # your train set features\n",
    "    train_labels = np.array(train_dataset[\"train_set_y\"][:]) # your train set labels\n",
    "\n",
    "    test_dataset = h5py.File('./data/test_catvnoncat.h5', 'r')\n",
    "    test_images = np.array(test_dataset[\"test_set_x\"][:]) # your test set features\n",
    "    test_labels = np.array(test_dataset[\"test_set_y\"][:]) # your test set labels\n",
    "\n",
    "    classes = np.array(test_dataset[\"list_classes\"][:]) # the list of classes\n",
    "    \n",
    "    train_labels = train_labels.reshape((1, train_labels.shape[0]))\n",
    "    test_labels = test_labels.reshape((1, test_labels.shape[0]))\n",
    "    \n",
    "    return train_images, train_labels, test_images, test_labels, classes"
   ]
  },
  {
   "cell_type": "code",
   "execution_count": 3,
   "metadata": {},
   "outputs": [],
   "source": [
    "# Load training and test data\n",
    "train_images, train_labels, test_images, test_labels, classes = load_dataset()\n",
    "\n",
    "# Normalising images and reshape labels\n",
    "train_images = train_images / 255.0\n",
    "test_images = test_images / 255.0\n",
    "\n",
    "train_labels = train_labels.reshape(-1, 1)\n",
    "test_labels = test_labels.reshape(-1, 1)\n",
    "\n",
    "# Converting data to PyTorch tensors\n",
    "train_images_tensor = torch.tensor(train_images, dtype=torch.float32).view(train_images.shape[0], -1)\n",
    "train_labels_tensor = torch.tensor(train_labels, dtype=torch.float32)\n",
    "test_images_tensor = torch.tensor(test_images, dtype=torch.float32).view(test_images.shape[0], -1)\n",
    "test_labels_tensor = torch.tensor(test_labels, dtype=torch.float32)\n",
    "\n",
    "# Creating data loaders\n",
    "batch_size = 64\n",
    "train_data = TensorDataset(train_images_tensor, train_labels_tensor)\n",
    "train_loader = DataLoader(train_data, batch_size=batch_size, shuffle=True)\n",
    "\n",
    "test_data = TensorDataset(test_images_tensor, test_labels_tensor)\n",
    "test_loader = DataLoader(test_data, batch_size=batch_size)"
   ]
  },
  {
   "cell_type": "code",
   "execution_count": 9,
   "metadata": {},
   "outputs": [],
   "source": [
    "import torch.nn as nn\n",
    "\n",
    "class MultiLayerNN(nn.Module):\n",
    "    def __init__(self, input_size, sizes):\n",
    "        super(MultiLayerNN, self).__init__()\n",
    "\n",
    "        # Define the layers based on the sizes list fc1 = fully connected layer 1\n",
    "        self.fc1 = nn.Linear(input_size, sizes[0])\n",
    "        self.fc2 = nn.Linear(sizes[0], sizes[1])\n",
    "        self.fc3 = nn.Linear(sizes[1], sizes[2])\n",
    "        self.fc4 = nn.Linear(sizes[2], sizes[3])\n",
    "        self.sigmoid = nn.Sigmoid()\n",
    "\n",
    "    def forward(self, x):\n",
    "        x = torch.relu(self.fc1(x))\n",
    "        x = torch.relu(self.fc2(x))\n",
    "        x = torch.relu(self.fc3(x))\n",
    "        x = self.fc4(x)\n",
    "        return self.sigmoid(x)\n",
    "\n",
    "input_size = train_images.shape[1] * train_images.shape[2] * train_images.shape[3]\n",
    "sizes = [64, 32, 64, 1]\n",
    "model = MultiLayerNN(input_size, sizes)\n"
   ]
  },
  {
   "cell_type": "code",
   "execution_count": 10,
   "metadata": {},
   "outputs": [],
   "source": [
    "loss_fn = nn.BCELoss()  # binary cross entropy loss\n",
    "optimizer = torch.optim.Adam(model.parameters(), lr=0.0015)\n"
   ]
  },
  {
   "cell_type": "code",
   "execution_count": 11,
   "metadata": {},
   "outputs": [
    {
     "name": "stdout",
     "output_type": "stream",
     "text": [
      "Epoch [1/25], Loss: 0.6225\n",
      "Epoch [2/25], Loss: 0.6559\n",
      "Epoch [3/25], Loss: 0.5675\n",
      "Epoch [4/25], Loss: 0.8466\n",
      "Epoch [5/25], Loss: 0.6117\n",
      "Epoch [6/25], Loss: 0.5461\n",
      "Epoch [7/25], Loss: 0.6338\n",
      "Epoch [8/25], Loss: 0.4889\n",
      "Epoch [9/25], Loss: 0.5383\n",
      "Epoch [10/25], Loss: 0.5303\n",
      "Epoch [11/25], Loss: 0.5590\n",
      "Epoch [12/25], Loss: 0.6505\n",
      "Epoch [13/25], Loss: 0.5271\n",
      "Epoch [14/25], Loss: 0.4695\n",
      "Epoch [15/25], Loss: 0.4289\n",
      "Epoch [16/25], Loss: 0.4504\n",
      "Epoch [17/25], Loss: 0.4748\n",
      "Epoch [18/25], Loss: 0.5404\n",
      "Epoch [19/25], Loss: 0.4098\n",
      "Epoch [20/25], Loss: 0.3628\n",
      "Epoch [21/25], Loss: 0.3450\n",
      "Epoch [22/25], Loss: 0.3855\n",
      "Epoch [23/25], Loss: 0.5454\n",
      "Epoch [24/25], Loss: 0.2792\n",
      "Epoch [25/25], Loss: 0.4200\n"
     ]
    }
   ],
   "source": [
    "num_epochs = 25\n",
    "for epoch in range(num_epochs):\n",
    "    for batch_idx, (images, labels) in enumerate(train_loader):\n",
    "        outputs = model(images)\n",
    "        loss = loss_fn(outputs, labels)\n",
    "\n",
    "        optimizer.zero_grad()\n",
    "        loss.backward()\n",
    "        optimizer.step()\n",
    "\n",
    "    print(f'Epoch [{epoch+1}/{num_epochs}], Loss: {loss.item():.4f}')\n"
   ]
  },
  {
   "cell_type": "code",
   "execution_count": null,
   "metadata": {},
   "outputs": [],
   "source": []
  }
 ],
 "metadata": {
  "kernelspec": {
   "display_name": "Python 3",
   "language": "python",
   "name": "python3"
  },
  "language_info": {
   "codemirror_mode": {
    "name": "ipython",
    "version": 3
   },
   "file_extension": ".py",
   "mimetype": "text/x-python",
   "name": "python",
   "nbconvert_exporter": "python",
   "pygments_lexer": "ipython3",
   "version": "3.11.1"
  }
 },
 "nbformat": 4,
 "nbformat_minor": 2
}
